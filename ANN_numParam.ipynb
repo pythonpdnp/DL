{
  "nbformat": 4,
  "nbformat_minor": 0,
  "metadata": {
    "colab": {
      "provenance": [],
      "authorship_tag": "ABX9TyM8Qaki0qbVpKERCDU88eFF",
      "include_colab_link": true
    },
    "kernelspec": {
      "name": "python3",
      "display_name": "Python 3"
    },
    "language_info": {
      "name": "python"
    }
  },
  "cells": [
    {
      "cell_type": "markdown",
      "metadata": {
        "id": "view-in-github",
        "colab_type": "text"
      },
      "source": [
        "<a href=\"https://colab.research.google.com/github/pythonpdnp/DL/blob/main/ANN_numParam.ipynb\" target=\"_parent\"><img src=\"https://colab.research.google.com/assets/colab-badge.svg\" alt=\"Open In Colab\"/></a>"
      ]
    },
    {
      "cell_type": "code",
      "execution_count": null,
      "metadata": {
        "id": "mCIz9_S-m9qM"
      },
      "outputs": [],
      "source": [
        "import torch\n",
        "import torch.nn as nn\n",
        "\n",
        "import numpy as np"
      ]
    },
    {
      "cell_type": "markdown",
      "source": [
        "### ANN net with Hidden Layer\n",
        "\n",
        "<img src=\"https://github.com/pythonpdnp/DL/blob/main/img/ANNnet01.png?raw=true\" width=\"50%\" height=\"50%\">"
      ],
      "metadata": {
        "id": "kStAItbcnBvh"
      }
    },
    {
      "cell_type": "code",
      "source": [
        "wideNet = nn.Sequential(\n",
        "    nn.Linear(2,4),\n",
        "    nn.Linear(4,3)\n",
        ")\n",
        "\n",
        "deepNet = nn.Sequential(\n",
        "    nn.Linear(2,2),\n",
        "    nn.Linear(2,2),\n",
        "    nn.Linear(2,3)\n",
        ")\n",
        "\n",
        "print(wideNet)\n",
        "print(deepNet)"
      ],
      "metadata": {
        "colab": {
          "base_uri": "https://localhost:8080/"
        },
        "id": "AU8vdggMpIxE",
        "outputId": "b15e111c-de3e-4aeb-d3d9-32bb25e4ca96"
      },
      "execution_count": null,
      "outputs": [
        {
          "output_type": "stream",
          "name": "stdout",
          "text": [
            "Sequential(\n",
            "  (0): Linear(in_features=2, out_features=4, bias=True)\n",
            "  (1): Linear(in_features=4, out_features=3, bias=True)\n",
            ")\n",
            "Sequential(\n",
            "  (0): Linear(in_features=2, out_features=2, bias=True)\n",
            "  (1): Linear(in_features=2, out_features=2, bias=True)\n",
            "  (2): Linear(in_features=2, out_features=3, bias=True)\n",
            ")\n"
          ]
        }
      ]
    },
    {
      "cell_type": "code",
      "source": [
        "for p in wideNet.named_parameters():\n",
        "  print(p)\n",
        "  print(' ')"
      ],
      "metadata": {
        "colab": {
          "base_uri": "https://localhost:8080/"
        },
        "id": "SmLIwBTXvHac",
        "outputId": "becd03b4-02d9-48ef-d9de-966dab825881"
      },
      "execution_count": null,
      "outputs": [
        {
          "output_type": "stream",
          "name": "stdout",
          "text": [
            "('0.weight', Parameter containing:\n",
            "tensor([[ 0.1940, -0.0775],\n",
            "        [-0.5346, -0.0953],\n",
            "        [-0.2081, -0.1168],\n",
            "        [ 0.6363, -0.6212]], requires_grad=True))\n",
            " \n",
            "('0.bias', Parameter containing:\n",
            "tensor([ 0.0763,  0.6773,  0.7031, -0.3614], requires_grad=True))\n",
            " \n",
            "('1.weight', Parameter containing:\n",
            "tensor([[ 0.4083,  0.2218,  0.0183, -0.2624],\n",
            "        [ 0.1753,  0.0364, -0.4609,  0.2568],\n",
            "        [ 0.1728, -0.2780,  0.1867, -0.1076]], requires_grad=True))\n",
            " \n",
            "('1.bias', Parameter containing:\n",
            "tensor([ 0.4804, -0.2369, -0.3391], requires_grad=True))\n",
            " \n"
          ]
        }
      ]
    },
    {
      "cell_type": "code",
      "source": [
        "def countParam(net):\n",
        "  \"\"\"네트워크의 노드 수와 파라미터 수를 계산합니다.\n",
        "\n",
        "  Args:\n",
        "    net: 파라미터를 계산할 네트워크 (torch.nn.Module).\n",
        "\n",
        "  Returns:\n",
        "    튜플: (노드 수, 파라미터 수).\n",
        "        노드 수는 bias 파라미터의 개수를 합산하여 계산됩니다.\n",
        "        파라미터 수는 모든 파라미터 (가중치 및 bias)의 개수를 합산하여 계산됩니다.\n",
        "  \"\"\"\n",
        "  n_nodes = 0\n",
        "  n_params = 0\n",
        "  for name, param in net.named_parameters():\n",
        "    if 'bias' in name:\n",
        "      n_nodes += param.numel()\n",
        "    n_params += param.numel()\n",
        "\n",
        "  return n_nodes, n_params"
      ],
      "metadata": {
        "id": "8Igk84dS4MWm"
      },
      "execution_count": null,
      "outputs": []
    },
    {
      "cell_type": "code",
      "source": [
        "wNode, wParams = countParam(wideNet)\n",
        "dNode, dParams = countParam(deepNet)\n",
        "\n",
        "print(f'Wide Net - Nodes: {wNode}, Params: {wParams}')\n",
        "print(f'Deep Net - Nodes: {dNode}, Params: {dParams}')"
      ],
      "metadata": {
        "colab": {
          "base_uri": "https://localhost:8080/"
        },
        "id": "1XQ-NIzK7fYm",
        "outputId": "24ec3f6d-93c2-4571-fc3d-e599fc250d79"
      },
      "execution_count": null,
      "outputs": [
        {
          "output_type": "stream",
          "name": "stdout",
          "text": [
            "Wide Net - Nodes: 7, Params: 27\n",
            "Deep Net - Nodes: 7, Params: 21\n"
          ]
        }
      ]
    },
    {
      "cell_type": "markdown",
      "source": [
        "### torchsummary"
      ],
      "metadata": {
        "id": "dOAGLWeO8z35"
      }
    },
    {
      "cell_type": "code",
      "source": [
        "from torchsummary import summary\n",
        "\n",
        "summary(wideNet, (2,))"
      ],
      "metadata": {
        "colab": {
          "base_uri": "https://localhost:8080/"
        },
        "id": "icCPi5h88krK",
        "outputId": "b8ce823d-7949-4182-b382-8cd22a215b19"
      },
      "execution_count": null,
      "outputs": [
        {
          "output_type": "stream",
          "name": "stdout",
          "text": [
            "----------------------------------------------------------------\n",
            "        Layer (type)               Output Shape         Param #\n",
            "================================================================\n",
            "            Linear-1                    [-1, 4]              12\n",
            "            Linear-2                    [-1, 3]              15\n",
            "================================================================\n",
            "Total params: 27\n",
            "Trainable params: 27\n",
            "Non-trainable params: 0\n",
            "----------------------------------------------------------------\n",
            "Input size (MB): 0.00\n",
            "Forward/backward pass size (MB): 0.00\n",
            "Params size (MB): 0.00\n",
            "Estimated Total Size (MB): 0.00\n",
            "----------------------------------------------------------------\n"
          ]
        }
      ]
    },
    {
      "cell_type": "code",
      "source": [
        "summary(deepNet, (2,))"
      ],
      "metadata": {
        "colab": {
          "base_uri": "https://localhost:8080/"
        },
        "id": "wnk4CXw18uQ6",
        "outputId": "f88e45f2-8add-461e-8ac9-b5eb983edefb"
      },
      "execution_count": null,
      "outputs": [
        {
          "output_type": "stream",
          "name": "stdout",
          "text": [
            "----------------------------------------------------------------\n",
            "        Layer (type)               Output Shape         Param #\n",
            "================================================================\n",
            "            Linear-1                    [-1, 2]               6\n",
            "            Linear-2                    [-1, 2]               6\n",
            "            Linear-3                    [-1, 3]               9\n",
            "================================================================\n",
            "Total params: 21\n",
            "Trainable params: 21\n",
            "Non-trainable params: 0\n",
            "----------------------------------------------------------------\n",
            "Input size (MB): 0.00\n",
            "Forward/backward pass size (MB): 0.00\n",
            "Params size (MB): 0.00\n",
            "Estimated Total Size (MB): 0.00\n",
            "----------------------------------------------------------------\n"
          ]
        }
      ]
    }
  ]
}